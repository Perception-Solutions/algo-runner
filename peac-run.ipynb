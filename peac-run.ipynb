{
 "cells": [
  {
   "cell_type": "code",
   "execution_count": 1,
   "outputs": [
    {
     "name": "stdout",
     "output_type": "stream",
     "text": [
      "Jupyter environment detected. Enabling Open3D WebVisualizer.\n",
      "[Open3D INFO] WebRTC GUI backend enabled.\n",
      "[Open3D INFO] WebRTCWindowSystem: HTTP handshake server disabled.\n"
     ]
    }
   ],
   "source": [
    "import os\n",
    "\n",
    "import matplotlib.pyplot as plt\n",
    "import open3d as o3d\n",
    "import numpy as np\n",
    "import shutil\n",
    "import tqdm\n",
    "\n",
    "from pathlib import Path\n",
    "\n",
    "from python.plane_seg.algorithm.PEAC import PEAC\n",
    "from python.plane_seg.metrics import evaluate_metrics"
   ],
   "metadata": {
    "collapsed": false,
    "pycharm": {
     "name": "#%%\n"
    }
   }
  },
  {
   "cell_type": "markdown",
   "source": [
    "## Depth readers"
   ],
   "metadata": {
    "collapsed": false,
    "pycharm": {
     "name": "#%% md\n"
    }
   }
  },
  {
   "cell_type": "code",
   "execution_count": 2,
   "outputs": [],
   "source": [
    "from scripts.read_living import read_depth as read_living\n",
    "from scripts.read_office import read_depth as read_office\n",
    "from scripts.read_tum import read_depth as read_tum"
   ],
   "metadata": {
    "collapsed": false,
    "pycharm": {
     "name": "#%%\n"
    }
   }
  },
  {
   "cell_type": "markdown",
   "source": [
    "## Constants"
   ],
   "metadata": {
    "collapsed": false,
    "pycharm": {
     "name": "#%% md\n"
    }
   }
  },
  {
   "cell_type": "code",
   "execution_count": 3,
   "outputs": [],
   "source": [
    "VALIDATION_FRAMES_PATH = {\n",
    "    \"icl_living_room\": Path(\"/home/achains/Desktop/planeseg-metrics/validation_frames/icl_living_room/validation\"),\n",
    "    \"icl_office\": Path(\"/home/achains/Desktop/planeseg-metrics/validation_frames/icl_office/validation\"),\n",
    "    \"tum_cabinet\": Path(\"/home/achains/Desktop/planeseg-metrics/validation_frames/tum_cabinet/validation\"),\n",
    "    \"tum_long_office\": Path(\"/home/achains/Desktop/planeseg-metrics/validation_frames/tum_long_office/validation\")\n",
    "}\n",
    "\n",
    "GROUND_TRUTH_PATH = {\n",
    "    \"icl_living_room\": Path(\"/home/achains/Desktop/datasets/_validation_/icl-living-room_cc/output_cc\"),\n",
    "    \"icl_office\": Path(\"/home/achains/Desktop/datasets/_validation_/icl-office/output\"),\n",
    "    \"tum_cabinet\": Path(\"/home/achains/Desktop/datasets/_validation_/tum_freiburg3_cabinet/output\"),\n",
    "    \"tum_long_office\": Path(\"/home/achains/Desktop/datasets/_validation_/tum_long_office/output\")\n",
    "}\n",
    "\n",
    "CFG_PATH = {\n",
    "    \"icl_living_room\": Path(\"configs/PEAC/peac-living.ini\"),\n",
    "    \"icl_office\": Path(\"configs/PEAC/peac-office.ini\"),\n",
    "    \"tum_cabinet\": Path(\"configs/PEAC/peac-cabinet.ini\"),\n",
    "    \"tum_long_office\": Path(\"configs/PEAC/peac-long.ini\")\n",
    "}\n",
    "\n",
    "DEFAULT_CFG = Path(\"configs/PEAC/peac_default.ini\")\n",
    "\n",
    "DATASET_READERS = {\n",
    "    \"icl_living_room\": read_living,\n",
    "    \"icl_office\": read_office,\n",
    "    \"tum_cabinet\": read_tum,\n",
    "    \"tum_long_office\": read_tum\n",
    "}"
   ],
   "metadata": {
    "collapsed": false,
    "pycharm": {
     "name": "#%%\n"
    }
   }
  },
  {
   "cell_type": "markdown",
   "source": [
    "## Evaluate Metrics"
   ],
   "metadata": {
    "collapsed": false,
    "pycharm": {
     "name": "#%% md\n"
    }
   }
  },
  {
   "cell_type": "code",
   "execution_count": 4,
   "outputs": [],
   "source": [
    "def evaluate_algorithm(cfg_path, pcd_path):\n",
    "    algorithm = PEAC(\n",
    "        container_name=\"peac_raw:1.0\",\n",
    "        cfg_path=cfg_path,\n",
    "        pcd_path=pcd_path,\n",
    "        size=(480, 640)\n",
    "    )\n",
    "    return algorithm.run()"
   ],
   "metadata": {
    "collapsed": false,
    "pycharm": {
     "name": "#%%\n"
    }
   }
  },
  {
   "cell_type": "code",
   "execution_count": 5,
   "outputs": [],
   "source": [
    "def run_metrics(result_path, default_cfg_path=None):\n",
    "    datasets = VALIDATION_FRAMES_PATH.keys()\n",
    "    for ds_name in tqdm.tqdm(datasets):\n",
    "        ds_output = Path(result_path) / Path(ds_name)\n",
    "        if ds_output.exists():\n",
    "            shutil.rmtree(ds_output)\n",
    "        os.mkdir(ds_output)\n",
    "\n",
    "        config_path = default_cfg_path or CFG_PATH[ds_name]\n",
    "        depth_names = sorted(os.listdir(VALIDATION_FRAMES_PATH[ds_name]))\n",
    "\n",
    "        if ds_name == \"icl_office\":\n",
    "            depth_names = sorted(filter(lambda x: x.endswith(\".depth\"), depth_names))\n",
    "\n",
    "        ds_metrics = {}\n",
    "        for d_frame in depth_names:\n",
    "            gt_frame_path = GROUND_TRUTH_PATH[ds_name] / (Path(d_frame).stem + \".png\")\n",
    "            pcd = DATASET_READERS[ds_name](str(VALIDATION_FRAMES_PATH[ds_name] / d_frame))\n",
    "            o3d.io.write_point_cloud(\"tmp.ply\", pcd)\n",
    "            labels = evaluate_algorithm(\n",
    "                cfg_path=config_path,\n",
    "                pcd_path=Path(\"tmp.ply\")\n",
    "            )\n",
    "\n",
    "            frame_metrics = evaluate_metrics(\n",
    "                prediction=labels,\n",
    "                ground_truth_path=gt_frame_path,\n",
    "                print_to_console=False\n",
    "            )\n",
    "            for metric_name, metric_value in frame_metrics.items():\n",
    "                if metric_name in ['iou', 'dice']:\n",
    "                    continue\n",
    "                if metric_name not in ds_metrics:\n",
    "                    ds_metrics[metric_name] = []\n",
    "                ds_metrics[metric_name].append(metric_value)\n",
    "\n",
    "        for metric_name, value_array in ds_metrics.items():\n",
    "            np.save(str(ds_output / metric_name), np.asarray(value_array))\n",
    "        shutil.copy(config_path, ds_output)"
   ],
   "metadata": {
    "collapsed": false,
    "pycharm": {
     "name": "#%%\n"
    }
   }
  },
  {
   "cell_type": "markdown",
   "source": [
    "## Result interpretation"
   ],
   "metadata": {
    "collapsed": false,
    "pycharm": {
     "name": "#%% md\n"
    }
   }
  },
  {
   "cell_type": "code",
   "execution_count": 6,
   "outputs": [],
   "source": [
    "import matplotlib.pyplot as plt"
   ],
   "metadata": {
    "collapsed": false,
    "pycharm": {
     "name": "#%%\n"
    }
   }
  },
  {
   "cell_type": "code",
   "execution_count": 37,
   "outputs": [],
   "source": [
    "from matplotlib.pyplot import figure"
   ],
   "metadata": {
    "collapsed": false,
    "pycharm": {
     "name": "#%%\n"
    }
   }
  },
  {
   "cell_type": "code",
   "execution_count": 13,
   "outputs": [],
   "source": [
    "METRIC_RESULTS = {\n",
    "    \"DDPFF\": {\n",
    "    \"default\": Path(\"/home/achains/Desktop/planeseg-metrics/DDPFF/results/default_params\"),\n",
    "    \"custom\": Path(\"/home/achains/Desktop/planeseg-metrics/DDPFF/results/my_params\")\n",
    "    },\n",
    "    \"CAPE\": {\n",
    "    \"default\": Path(\"/home/achains/Desktop/planeseg-metrics/CAPE/validation_metrics/default_params\"),\n",
    "    \"custom\": Path(\"/home/achains/Desktop/planeseg-metrics/CAPE/validation_metrics/my_params\")\n",
    "    },\n",
    "    \"PEAC\": {\n",
    "    \"default\": Path(\"/home/achains/Desktop/planeseg-metrics/PEAC/validation_metrics/default_params\"),\n",
    "    \"custom\": Path(\"/home/achains/Desktop/planeseg-metrics/PEAC/validation_metrics/custom_params\")\n",
    "    }\n",
    "}\n",
    "\n",
    "METRIC_NAMES = list(filter(\n",
    "                    lambda fname: fname.endswith(\".npy\"),\n",
    "                    os.listdir(METRIC_RESULTS[\"PEAC\"][\"custom\"] / \"icl_living_room\")))"
   ],
   "metadata": {
    "collapsed": false,
    "pycharm": {
     "name": "#%%\n"
    }
   }
  },
  {
   "cell_type": "code",
   "execution_count": 42,
   "outputs": [],
   "source": [
    "def fill_values(algorithm, ds_name, fun, conf=\"custom\"):\n",
    "    algorithm_values = {metric_name: 0.0 for metric_name in METRIC_NAMES}\n",
    "    for metric_name in METRIC_NAMES:\n",
    "        metric_values = np.load(METRIC_RESULTS[algorithm][conf] / ds_name / metric_name)\n",
    "        algorithm_values[metric_name] = fun(metric_values)\n",
    "    return algorithm_values\n",
    "\n",
    "def dataset_evaluation(ds_name, fun, save_path=os.curdir):\n",
    "    \"\"\"\n",
    "    ;\n",
    "    :param ds_name: See VALIDATION_FRAMES_PATH.keys()\n",
    "    :param fun: Statistic function\n",
    "    :param save_path: Save .png\n",
    "    \"\"\"\n",
    "    ALG_CONF = \"custom\"\n",
    "\n",
    "    fig, axes = plt.subplots(3, 3, figsize=(15, 15))\n",
    "\n",
    "    algorithm_values = {\n",
    "        algorithm_name: fill_values(algorithm_name, ds_name, fun, conf=ALG_CONF) for algorithm_name in METRIC_RESULTS\n",
    "    }\n",
    "    for i, metric_name in enumerate(METRIC_NAMES):\n",
    "        axes[i // 3][i % 3].set_ylim([0.0, 1.0])\n",
    "        labels = sorted(algorithm_values.keys())\n",
    "        values = [algorithm_values[algo_name][metric_name] for algo_name in sorted(algorithm_values.keys())]\n",
    "        barlist = axes[i // 3][i % 3].bar(labels, values)\n",
    "\n",
    "        barlist[0].set_color('r')\n",
    "        barlist[1].set_color('g')\n",
    "        axes[i // 3][i % 3].set_title(metric_name.rstrip(\".npy\"))\n",
    "        for ax in axes.flat:\n",
    "            ax.label_outer()\n",
    "\n",
    "    fig.suptitle(ds_name, fontweight=\"bold\")\n",
    "    fig.tight_layout()\n",
    "    fig.savefig(f\"{ds_name}.jpg\")"
   ],
   "metadata": {
    "collapsed": false,
    "pycharm": {
     "name": "#%%\n"
    }
   }
  },
  {
   "cell_type": "code",
   "execution_count": 43,
   "outputs": [],
   "source": [
    "%%capture\n",
    "dataset_evaluation(\"icl_living_room\", np.mean)\n",
    "dataset_evaluation(\"icl_office\", np.mean)\n",
    "dataset_evaluation(\"tum_cabinet\", np.mean)\n",
    "dataset_evaluation(\"tum_long_office\", np.mean)"
   ],
   "metadata": {
    "collapsed": false,
    "pycharm": {
     "name": "#%%\n"
    }
   }
  },
  {
   "cell_type": "code",
   "execution_count": null,
   "outputs": [],
   "source": [],
   "metadata": {
    "collapsed": false,
    "pycharm": {
     "name": "#%%\n"
    }
   }
  }
 ],
 "metadata": {
  "kernelspec": {
   "display_name": "Python 3",
   "language": "python",
   "name": "python3"
  },
  "language_info": {
   "codemirror_mode": {
    "name": "ipython",
    "version": 2
   },
   "file_extension": ".py",
   "mimetype": "text/x-python",
   "name": "python",
   "nbconvert_exporter": "python",
   "pygments_lexer": "ipython2",
   "version": "2.7.6"
  }
 },
 "nbformat": 4,
 "nbformat_minor": 0
}